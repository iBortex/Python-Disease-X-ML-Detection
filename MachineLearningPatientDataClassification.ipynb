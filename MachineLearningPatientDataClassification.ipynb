{
 "cells": [
  {
   "cell_type": "code",
   "execution_count": 20,
   "id": "1c03321b",
   "metadata": {},
   "outputs": [],
   "source": [
    "import pandas as pd\n",
    "from sklearn.preprocessing import StandardScaler\n",
    "from sklearn.linear_model import LogisticRegression\n",
    "from sklearn.model_selection import train_test_split\n",
    "import numpy as np\n",
    "import matplotlib.pyplot as plt\n",
    "from sklearn import metrics\n",
    "import seaborn as sns\n",
    "from sklearn.feature_selection import RFE\n",
    "from scipy import stats\n",
    "\n",
    "from sklearn.ensemble import BaggingClassifier\n",
    "from sklearn.datasets import make_classification\n",
    "from sklearn.ensemble import RandomForestClassifier\n",
    "\n",
    "from sklearn.model_selection import cross_val_score\n",
    "from sklearn.linear_model import LogisticRegression\n",
    "from sklearn.model_selection import StratifiedKFold\n",
    "import numpy as np\n",
    "\n",
    "from sklearn.metrics import roc_curve, auc, confusion_matrix\n",
    "import matplotlib.pyplot as plt"
   ]
  },
  {
   "cell_type": "code",
   "execution_count": 21,
   "id": "ef79a206",
   "metadata": {},
   "outputs": [],
   "source": [
    "scaler = StandardScaler()\n",
    "\n",
    "# Replace these two dataframes with the paths to where the base dataset and test dataset is located\n",
    "df = pd.read_csv(r'C:\\Users\\Daniel\\Downloads\\DiseaseX_Detection_Dataset.csv') #Path needs to be changed\n",
    "test = pd.read_csv(r\"C:\\Users\\Daniel\\Downloads\\DiseaseX_Detection_Test.csv\") #Path needs to be changed\n",
    "newtest = pd.read_csv(r\"C:\\Users\\Daniel\\Downloads\\DiseaseX_detection_Test_Perturbed.csv\") #Path needs to be changed\n",
    "\n",
    "\n",
    "\n",
    "# Define a function to remove outliers using Z-score\n",
    "def remove_outliers_zscore(dataframe, threshold=1.96):\n",
    "    z_scores = np.abs(stats.zscore(dataframe))\n",
    "    outliers = (z_scores > threshold).any(axis=1)\n",
    "    dataframe_no_outliers = dataframe[~outliers]\n",
    "    return dataframe_no_outliers\n",
    "\n",
    "# Set the threshold for Z-score (adjustable)\n",
    "zscore_threshold = 1.96\n",
    "\n",
    "# Apply the function to remove outliers for each column\n",
    "for column in df.columns:\n",
    "    newdf = remove_outliers_zscore(df, threshold=zscore_threshold)\n",
    "\n",
    "# Splitting the Data into training and testing\n",
    "x = newdf.loc[:,newdf.columns!= 'Response']\n",
    "\n",
    "\n",
    "y = newdf.Response\n",
    "\n",
    "\n",
    "# Standardize the features in 'x' while keeping it as a DataFrame\n",
    "x_scaled = pd.DataFrame(scaler.fit_transform(x), columns=x.columns)\n",
    "\n",
    "# Similarly, standardize the features in 'test' while keeping it as a DataFrame\n",
    "test_scaled = pd.DataFrame(scaler.transform(test), columns=test.columns)\n",
    "newtest_scaled = pd.DataFrame(scaler.transform(newtest), columns=newtest.columns)\n",
    "\n",
    "# Use Recursive Feature Elimination with cross-validation\n",
    "logreg = LogisticRegression()\n",
    "rfe = RFE(logreg, n_features_to_select=55)  # Choose the desired number of features\n",
    "x_rfe = rfe.fit_transform(x_scaled, y)\n",
    "\n",
    "# Split the data into training and testing sets\n",
    "x_train, x_test, y_train, y_test = train_test_split(x_rfe, y, test_size=0.2, random_state=0)\n",
    "\n",
    "# Access the boolean mask of selected features\n",
    "selected_features = np.array(x.columns)[rfe.support_]"
   ]
  },
  {
   "cell_type": "code",
   "execution_count": 22,
   "id": "01589f42",
   "metadata": {},
   "outputs": [
    {
     "name": "stdout",
     "output_type": "stream",
     "text": [
      "Accuracy: 0.7428671247234191\n",
      "Precision: 0.6812549960031974\n",
      "Recall: 0.8475882645450025\n",
      "Selected Features: ['X1' 'X2' 'X3' 'X4' 'X5' 'X6' 'X7' 'X8' 'X9' 'X10' 'X13' 'X14' 'X15'\n",
      " 'X16' 'X17' 'X18' 'X19' 'X20' 'X23' 'X24' 'X27' 'X30' 'X31' 'X32' 'X36'\n",
      " 'X37' 'X38' 'X39' 'X41' 'X44' 'X49' 'X53' 'X55' 'X56' 'X57' 'X58' 'X59'\n",
      " 'X61' 'X63' 'X64' 'X65' 'X69' 'X71' 'X73' 'X74' 'X76' 'X77' 'X78' 'X79'\n",
      " 'X81' 'X83' 'X85' 'X87' 'X88' 'X90']\n",
      "Top 1: Coefficient 0.9233048935712209 for feature 'X1'.\n",
      "Top 2: Coefficient 0.3688891061695808 for feature 'X3'.\n",
      "Top 3: Coefficient -0.28082759514282996 for feature 'X20'.\n",
      "Accuracy scores for each fold: [0.75104797 0.7424313  0.74941779 0.74027487 0.74539949 0.7498253\n",
      " 0.7423713  0.74772886 0.75052411 0.74959236]\n",
      "Mean accuracy: 0.7468613347993088\n"
     ]
    },
    {
     "data": {
      "text/plain": [
       "array([[2970, 1595],\n",
       "       [ 613, 3409]], dtype=int64)"
      ]
     },
     "execution_count": 22,
     "metadata": {},
     "output_type": "execute_result"
    }
   ],
   "source": [
    "# Define the logistic regression model with class weights\n",
    "model = LogisticRegression(class_weight={0: 1, 1: 2}, random_state=42, C = 100, max_iter = 100, solver = 'liblinear')\n",
    "\n",
    "# Train the model on the training data\n",
    "model.fit(x_train, y_train)\n",
    "\n",
    "# model = logreg.fit(x_train_downsampled, y_train_downsampled)\n",
    "y_pred=model.predict(x_test)\n",
    "cnf_matrix = metrics.confusion_matrix(y_test, y_pred)\n",
    "\n",
    "\n",
    "print('Accuracy:', metrics.accuracy_score(y_test, y_pred))\n",
    "print('Precision:', metrics.precision_score(y_test, y_pred))\n",
    "print('Recall:', metrics.recall_score(y_test, y_pred))\n",
    "\n",
    "\n",
    "# Print the selected features\n",
    "print(\"Selected Features:\", selected_features)\n",
    "\n",
    "\n",
    "\n",
    "# Get the indices of the top 3 coefficients by absolute value (excluding index 0 which is the constant)\n",
    "top_indices = np.argsort(np.abs(model.coef_[0, 1:]))[::-1][:3]\n",
    "\n",
    "# Get the top 3 coefficients and their corresponding features\n",
    "top_coefficients = model.coef_[0, 1:][top_indices]\n",
    "top_features = selected_features[top_indices]\n",
    "\n",
    "# Display the top 3 coefficients and their corresponding features\n",
    "for i, (feature, coefficient) in enumerate(zip(top_features, top_coefficients), 1):\n",
    "    print(f\"Top {i}: Coefficient {coefficient} for feature '{feature}'.\")\n",
    "    \n",
    "# Set up a 10-fold cross-validation\n",
    "cv = StratifiedKFold(n_splits=10, shuffle=True, random_state=42)\n",
    "\n",
    "# Perform cross-validation and get the accuracy scores\n",
    "accuracy_scores = cross_val_score(model, x_scaled, y, cv=cv, scoring='accuracy')\n",
    "\n",
    "# Print the accuracy scores for each fold\n",
    "print(\"Accuracy scores for each fold:\", accuracy_scores)\n",
    "\n",
    "# Print the mean accuracy across all folds\n",
    "print(\"Mean accuracy:\", np.mean(accuracy_scores))\n",
    "\n",
    "cnf_matrix"
   ]
  },
  {
   "cell_type": "code",
   "execution_count": 23,
   "id": "cbc88b19",
   "metadata": {},
   "outputs": [
    {
     "name": "stdout",
     "output_type": "stream",
     "text": [
      "Sum of predictions that are 1s: 4742\n",
      "Sum of predictions that are 0s: 1900\n"
     ]
    },
    {
     "name": "stderr",
     "output_type": "stream",
     "text": [
      "C:\\Users\\Daniel\\anaconda3\\Lib\\site-packages\\sklearn\\base.py:457: UserWarning: X has feature names, but LogisticRegression was fitted without feature names\n",
      "  \n"
     ]
    },
    {
     "data": {
      "text/html": [
       "<div>\n",
       "<style scoped>\n",
       "    .dataframe tbody tr th:only-of-type {\n",
       "        vertical-align: middle;\n",
       "    }\n",
       "\n",
       "    .dataframe tbody tr th {\n",
       "        vertical-align: top;\n",
       "    }\n",
       "\n",
       "    .dataframe thead th {\n",
       "        text-align: right;\n",
       "    }\n",
       "</style>\n",
       "<table border=\"1\" class=\"dataframe\">\n",
       "  <thead>\n",
       "    <tr style=\"text-align: right;\">\n",
       "      <th></th>\n",
       "      <th>Predictions</th>\n",
       "    </tr>\n",
       "  </thead>\n",
       "  <tbody>\n",
       "    <tr>\n",
       "      <th>0</th>\n",
       "      <td>1</td>\n",
       "    </tr>\n",
       "    <tr>\n",
       "      <th>1</th>\n",
       "      <td>1</td>\n",
       "    </tr>\n",
       "    <tr>\n",
       "      <th>2</th>\n",
       "      <td>1</td>\n",
       "    </tr>\n",
       "    <tr>\n",
       "      <th>3</th>\n",
       "      <td>1</td>\n",
       "    </tr>\n",
       "    <tr>\n",
       "      <th>4</th>\n",
       "      <td>1</td>\n",
       "    </tr>\n",
       "    <tr>\n",
       "      <th>...</th>\n",
       "      <td>...</td>\n",
       "    </tr>\n",
       "    <tr>\n",
       "      <th>6637</th>\n",
       "      <td>1</td>\n",
       "    </tr>\n",
       "    <tr>\n",
       "      <th>6638</th>\n",
       "      <td>0</td>\n",
       "    </tr>\n",
       "    <tr>\n",
       "      <th>6639</th>\n",
       "      <td>0</td>\n",
       "    </tr>\n",
       "    <tr>\n",
       "      <th>6640</th>\n",
       "      <td>1</td>\n",
       "    </tr>\n",
       "    <tr>\n",
       "      <th>6641</th>\n",
       "      <td>1</td>\n",
       "    </tr>\n",
       "  </tbody>\n",
       "</table>\n",
       "<p>6642 rows × 1 columns</p>\n",
       "</div>"
      ],
      "text/plain": [
       "      Predictions\n",
       "0               1\n",
       "1               1\n",
       "2               1\n",
       "3               1\n",
       "4               1\n",
       "...           ...\n",
       "6637            1\n",
       "6638            0\n",
       "6639            0\n",
       "6640            1\n",
       "6641            1\n",
       "\n",
       "[6642 rows x 1 columns]"
      ]
     },
     "execution_count": 23,
     "metadata": {},
     "output_type": "execute_result"
    }
   ],
   "source": [
    "\n",
    "predictions=model.predict(newtest_scaled[selected_features])\n",
    "\n",
    "# Create a new DataFrame for predictions\n",
    "predictions_df = pd.DataFrame(data={'Predictions': predictions}, index=newtest.index)\n",
    "\n",
    "\n",
    "# Calculate the sum of predictions that are 1s and 0s\n",
    "sum_of_ones = predictions_df['Predictions'].sum()\n",
    "sum_of_zeros = len(predictions_df) - sum_of_ones\n",
    "\n",
    "# Display the results\n",
    "print(f\"Sum of predictions that are 1s: {sum_of_ones}\")\n",
    "print(f\"Sum of predictions that are 0s: {sum_of_zeros}\")\n",
    "\n",
    "predictions_df\n"
   ]
  },
  {
   "cell_type": "code",
   "execution_count": 13,
   "id": "6cd772cd",
   "metadata": {},
   "outputs": [
    {
     "data": {
      "image/png": "[encoded data removed]",
      "text/plain": [
       "<Figure size 800x800 with 1 Axes>"
      ]
     },
     "metadata": {},
     "output_type": "display_data"
    }
   ],
   "source": [
    "# Get the predicted probabilities for the positive class\n",
    "y_scores = model.predict_proba(x_test)[:, 1]\n",
    "\n",
    "# Calculate the ROC curve\n",
    "fpr, tpr, _ = roc_curve(y_test, y_scores)\n",
    "\n",
    "# Calculate the area under the curve (AUC)\n",
    "roc_auc = auc(fpr, tpr)\n",
    "\n",
    "# Plot the ROC curve\n",
    "plt.figure(figsize=(8, 8))\n",
    "plt.plot(fpr, tpr, color='darkorange', lw=2, label=f'AUC = {roc_auc:.2f}')\n",
    "plt.plot([0, 1], [0, 1], color='navy', lw=2, linestyle='--')\n",
    "plt.xlabel('False Positive Rate (FPR)', fontsize=14)\n",
    "plt.ylabel('True Positive Rate (TPR)', fontsize=14)\n",
    "plt.title('Receiver Operating Characteristic (ROC) Curve', fontsize=16)\n",
    "plt.legend(loc='lower right', fontsize=12)\n",
    "plt.show()\n"
   ]
  },
  {
   "cell_type": "code",
   "execution_count": null,
   "id": "1cf838c1",
   "metadata": {},
   "outputs": [],
   "source": [
    "clf1 = RandomForestClassifier(n_estimators = 200, max_depth= None, bootstrap = True, random_state=0).fit(x_train, y_train)\n",
    "y_pred_RF = clf1.predict(x_test)"
   ]
  },
  {
   "cell_type": "code",
   "execution_count": null,
   "id": "3a440340",
   "metadata": {},
   "outputs": [],
   "source": [
    "## Confusion matrix\n",
    "cnf_matrix = metrics.confusion_matrix(y_test, y_pred_RF)\n",
    "\n",
    "\n",
    "print(\"Accuracy:\",metrics.accuracy_score(y_test, y_pred_RF))\n",
    "cnf_matrix"
   ]
  },
  {
   "cell_type": "code",
   "execution_count": null,
   "id": "6f8308be",
   "metadata": {},
   "outputs": [],
   "source": [
    "from sklearn.neural_network import MLPClassifier\n",
    "\n",
    "model = MLPClassifier()\n",
    "\n",
    "model.fit(x_train, y_train)\n",
    "\n",
    "y_hat = model.predict(x_test)"
   ]
  },
  {
   "cell_type": "code",
   "execution_count": null,
   "id": "cac68a53",
   "metadata": {},
   "outputs": [],
   "source": [
    "from sklearn.metrics import confusion_matrix, accuracy_score\n",
    "\n",
    "print(confusion_matrix(y_test, y_hat))\n",
    "\n",
    "from sklearn.metrics import accuracy_score, classification_report\n",
    "accuracy = accuracy_score(y_test, y_hat)\n",
    "print(\"Accuracy:\", accuracy)\n",
    "print(classification_report(y_test, y_hat))"
   ]
  },
  {
   "cell_type": "code",
   "execution_count": 4,
   "id": "37778303",
   "metadata": {},
   "outputs": [
    {
     "data": {
      "text/html": [
       "<style>#sk-container-id-1 {color: black;}#sk-container-id-1 pre{padding: 0;}#sk-container-id-1 div.sk-toggleable {background-color: white;}#sk-container-id-1 label.sk-toggleable__label {cursor: pointer;display: block;width: 100%;margin-bottom: 0;padding: 0.3em;box-sizing: border-box;text-align: center;}#sk-container-id-1 label.sk-toggleable__label-arrow:before {content: \"▸\";float: left;margin-right: 0.25em;color: #696969;}#sk-container-id-1 label.sk-toggleable__label-arrow:hover:before {color: black;}#sk-container-id-1 div.sk-estimator:hover label.sk-toggleable__label-arrow:before {color: black;}#sk-container-id-1 div.sk-toggleable__content {max-height: 0;max-width: 0;overflow: hidden;text-align: left;background-color: #f0f8ff;}#sk-container-id-1 div.sk-toggleable__content pre {margin: 0.2em;color: black;border-radius: 0.25em;background-color: #f0f8ff;}#sk-container-id-1 input.sk-toggleable__control:checked~div.sk-toggleable__content {max-height: 200px;max-width: 100%;overflow: auto;}#sk-container-id-1 input.sk-toggleable__control:checked~label.sk-toggleable__label-arrow:before {content: \"▾\";}#sk-container-id-1 div.sk-estimator input.sk-toggleable__control:checked~label.sk-toggleable__label {background-color: #d4ebff;}#sk-container-id-1 div.sk-label input.sk-toggleable__control:checked~label.sk-toggleable__label {background-color: #d4ebff;}#sk-container-id-1 input.sk-hidden--visually {border: 0;clip: rect(1px 1px 1px 1px);clip: rect(1px, 1px, 1px, 1px);height: 1px;margin: -1px;overflow: hidden;padding: 0;position: absolute;width: 1px;}#sk-container-id-1 div.sk-estimator {font-family: monospace;background-color: #f0f8ff;border: 1px dotted black;border-radius: 0.25em;box-sizing: border-box;margin-bottom: 0.5em;}#sk-container-id-1 div.sk-estimator:hover {background-color: #d4ebff;}#sk-container-id-1 div.sk-parallel-item::after {content: \"\";width: 100%;border-bottom: 1px solid gray;flex-grow: 1;}#sk-container-id-1 div.sk-label:hover label.sk-toggleable__label {background-color: #d4ebff;}#sk-container-id-1 div.sk-serial::before {content: \"\";position: absolute;border-left: 1px solid gray;box-sizing: border-box;top: 0;bottom: 0;left: 50%;z-index: 0;}#sk-container-id-1 div.sk-serial {display: flex;flex-direction: column;align-items: center;background-color: white;padding-right: 0.2em;padding-left: 0.2em;position: relative;}#sk-container-id-1 div.sk-item {position: relative;z-index: 1;}#sk-container-id-1 div.sk-parallel {display: flex;align-items: stretch;justify-content: center;background-color: white;position: relative;}#sk-container-id-1 div.sk-item::before, #sk-container-id-1 div.sk-parallel-item::before {content: \"\";position: absolute;border-left: 1px solid gray;box-sizing: border-box;top: 0;bottom: 0;left: 50%;z-index: -1;}#sk-container-id-1 div.sk-parallel-item {display: flex;flex-direction: column;z-index: 1;position: relative;background-color: white;}#sk-container-id-1 div.sk-parallel-item:first-child::after {align-self: flex-end;width: 50%;}#sk-container-id-1 div.sk-parallel-item:last-child::after {align-self: flex-start;width: 50%;}#sk-container-id-1 div.sk-parallel-item:only-child::after {width: 0;}#sk-container-id-1 div.sk-dashed-wrapped {border: 1px dashed gray;margin: 0 0.4em 0.5em 0.4em;box-sizing: border-box;padding-bottom: 0.4em;background-color: white;}#sk-container-id-1 div.sk-label label {font-family: monospace;font-weight: bold;display: inline-block;line-height: 1.2em;}#sk-container-id-1 div.sk-label-container {text-align: center;}#sk-container-id-1 div.sk-container {/* jupyter's `normalize.less` sets `[hidden] { display: none; }` but bootstrap.min.css set `[hidden] { display: none !important; }` so we also need the `!important` here to be able to override the default hidden behavior on the sphinx rendered scikit-learn.org. See: https://github.com/scikit-learn/scikit-learn/issues/21755 */display: inline-block !important;position: relative;}#sk-container-id-1 div.sk-text-repr-fallback {display: none;}</style><div id=\"sk-container-id-1\" class=\"sk-top-container\"><div class=\"sk-text-repr-fallback\"><pre>SVC(C=1)</pre><b>In a Jupyter environment, please rerun this cell to show the HTML representation or trust the notebook. <br />On GitHub, the HTML representation is unable to render, please try loading this page with nbviewer.org.</b></div><div class=\"sk-container\" hidden><div class=\"sk-item\"><div class=\"sk-estimator sk-toggleable\"><input class=\"sk-toggleable__control sk-hidden--visually\" id=\"sk-estimator-id-1\" type=\"checkbox\" checked><label for=\"sk-estimator-id-1\" class=\"sk-toggleable__label sk-toggleable__label-arrow\">SVC</label><div class=\"sk-toggleable__content\"><pre>SVC(C=1)</pre></div></div></div></div></div>"
      ],
      "text/plain": [
       "SVC(C=1)"
      ]
     },
     "execution_count": 4,
     "metadata": {},
     "output_type": "execute_result"
    }
   ],
   "source": [
    "from sklearn.svm import SVC\n",
    "SVM_model1 = SVC(kernel='rbf', gamma='scale', C = 100)\n",
    "SVM_model1.fit(x_train, y_train)\n",
    "\n",
    "SVM_model2 = SVC(kernel='rbf', gamma='scale', C = 50)\n",
    "SVM_model2.fit(x_train, y_train)\n",
    "\n",
    "SVM_model3 = SVC(kernel='rbf', gamma='scale', C = 1)\n",
    "SVM_model3.fit(x_train, y_train)\n"
   ]
  },
  {
   "cell_type": "code",
   "execution_count": 5,
   "id": "90c96c82",
   "metadata": {},
   "outputs": [
    {
     "name": "stdout",
     "output_type": "stream",
     "text": [
      "Accuracy: 0.748922790264353\n",
      "              precision    recall  f1-score   support\n",
      "\n",
      "           0       0.76      0.76      0.76      4565\n",
      "           1       0.73      0.73      0.73      4022\n",
      "\n",
      "    accuracy                           0.75      8587\n",
      "   macro avg       0.75      0.75      0.75      8587\n",
      "weighted avg       0.75      0.75      0.75      8587\n",
      "\n",
      "Accuracy: 0.7573075579364155\n",
      "              precision    recall  f1-score   support\n",
      "\n",
      "           0       0.77      0.77      0.77      4565\n",
      "           1       0.74      0.74      0.74      4022\n",
      "\n",
      "    accuracy                           0.76      8587\n",
      "   macro avg       0.76      0.76      0.76      8587\n",
      "weighted avg       0.76      0.76      0.76      8587\n",
      "\n",
      "Accuracy: 0.788051706067311\n",
      "              precision    recall  f1-score   support\n",
      "\n",
      "           0       0.78      0.83      0.81      4565\n",
      "           1       0.80      0.74      0.76      4022\n",
      "\n",
      "    accuracy                           0.79      8587\n",
      "   macro avg       0.79      0.78      0.79      8587\n",
      "weighted avg       0.79      0.79      0.79      8587\n",
      "\n"
     ]
    }
   ],
   "source": [
    "models = [SVM_model1, SVM_model2, SVM_model3]\n",
    "\n",
    "\n",
    "\n",
    "from sklearn.metrics import accuracy_score, classification_report\n",
    "\n",
    "for model in models:\n",
    "    \n",
    "    y_pred = model.predict(x_test)\n",
    "    accuracy = accuracy_score(y_test, y_pred)\n",
    "    print(\"Accuracy:\", accuracy)\n",
    "    print(classification_report(y_test, y_pred))\n"
   ]
  },
  {
   "cell_type": "code",
   "execution_count": null,
   "id": "d8223fe1",
   "metadata": {},
   "outputs": [],
   "source": [
    "# Perform cross-validation\n",
    "cv_scores = cross_val_score(svm_classifier, x_train, y_train, cv=5)\n",
    "\n",
    "print(\"Cross-validation scores:\", cv_scores)\n",
    "print(\"Mean CV score:\", np.mean(cv_scores))"
   ]
  },
  {
   "cell_type": "code",
   "execution_count": null,
   "id": "fe6ac583",
   "metadata": {},
   "outputs": [],
   "source": [
    "# Get predicted probabilities for ROC curve\n",
    "y_proba = svm_classifier.predict_proba(x_test)[:, 1]\n",
    "\n",
    "# Compute ROC curve and AUC\n",
    "fpr, tpr, thresholds = roc_curve(y_test, y_proba)\n",
    "roc_auc = auc(fpr, tpr)\n",
    "\n",
    "# Plot ROC curve\n",
    "plt.figure(figsize=(8, 6))\n",
    "plt.plot(fpr, tpr, color='blue', lw=2, label='ROC curve (AUC = %0.2f)' % roc_auc)\n",
    "plt.plot([0, 1], [0, 1], color='red', linestyle='--', lw=2, label='Random Guessing')\n",
    "plt.xlabel('False Positive Rate')\n",
    "plt.ylabel('True Positive Rate')http://localhost:8888/notebooks/Documents/Deliverable3.ipynb#\n",
    "plt.title('Receiver Operating Characteristic (ROC) Curve')\n",
    "plt.legend(loc='lower right')\n",
    "plt.show()"
   ]
  },
  {
   "cell_type": "code",
   "execution_count": null,
   "id": "1f806b2d",
   "metadata": {},
   "outputs": [],
   "source": [
    "print(confusion_matrix(y_test, y_hat))"
   ]
  },
  {
   "cell_type": "code",
   "execution_count": null,
   "id": "67018d82",
   "metadata": {},
   "outputs": [],
   "source": [
    "y_hat = svm_classifier.predict(test_scaled[selected_features])"
   ]
  },
  {
   "cell_type": "code",
   "execution_count": null,
   "id": "54f94bed",
   "metadata": {},
   "outputs": [],
   "source": [
    "# Create a new DataFrame for predictions\n",
    "predictions_df = pd.DataFrame(data={'Predictions': y_hat}, index=test.index)\n",
    "\n",
    "\n",
    "# Calculate the sum of predictions that are 1s and 0s\n",
    "sum_of_ones = predictions_df['Predictions'].sum()\n",
    "sum_of_zeros = len(predictions_df) - sum_of_ones\n",
    "\n",
    "# Display the results\n",
    "print(f\"Sum of predictions that are 1s: {sum_of_ones}\")\n",
    "print(f\"Sum of predictions that are 0s: {sum_of_zeros}\")\n",
    "\n",
    "predictions_df"
   ]
  },
  {
   "cell_type": "code",
   "execution_count": 24,
   "id": "fd4e0ccd",
   "metadata": {},
   "outputs": [
    {
     "name": "stdout",
     "output_type": "stream",
     "text": [
      "DataFrame exported to C:\\Users\\Daniel\\Downloads\\y_hat(2).csv\n"
     ]
    }
   ],
   "source": [
    "csv_file_path = r\"C:\\Users\\Daniel\\Downloads\\y_hat(2).csv\"\n",
    "\n",
    "# Export the DataFrame to a CSV file\n",
    "predictions_df.to_csv(csv_file_path, index=False)\n",
    "\n",
    "print(f\"DataFrame exported to {csv_file_path}\")"
   ]
  },
  {
   "cell_type": "code",
   "execution_count": 34,
   "id": "ae8b58d2",
   "metadata": {},
   "outputs": [
    {
     "data": {
      "image/png": "[encoded data removed]",
      "text/plain": [
       "<Figure size 800x500 with 1 Axes>"
      ]
     },
     "metadata": {},
     "output_type": "display_data"
    }
   ],
   "source": [
    "# Plotting a boxplot for a specific column (e.g., 'Age')\n",
    "plt.figure(figsize=(8, 5))  # Set the figure size\n",
    "\n",
    "# Create the boxplot\n",
    "plt.boxplot(newtest[selected_features], vert=True)  # Change 'Age' to the column you want to plot\n",
    "\n",
    "# Adding labels and title\n",
    "plt.xlabel('Age')\n",
    "plt.title('Boxplot of Age')\n",
    "\n",
    "# Show the plot\n",
    "plt.show()"
   ]
  },
  {
   "cell_type": "code",
   "execution_count": 20,
   "id": "15bcb7df",
   "metadata": {},
   "outputs": [
    {
     "name": "stdout",
     "output_type": "stream",
     "text": [
      "Accuracy: 0.7290089670432048\n"
     ]
    }
   ],
   "source": [
    "from sklearn.linear_model import SGDClassifier\n",
    "from sklearn.pipeline import make_pipeline\n",
    "from sklearn.datasets import make_classification\n",
    "from sklearn.model_selection import train_test_split\n",
    "from sklearn.metrics import accuracy_score\n",
    "\n",
    "# Create a pipeline with StandardScaler and SGDClassifier with Huber loss\n",
    "model = make_pipeline(StandardScaler(), SGDClassifier(loss='huber', random_state=42))\n",
    "\n",
    "# Train the model\n",
    "model.fit(x_train, y_train)\n",
    "\n",
    "# Make predictions\n",
    "y_pred = model.predict(x_test)\n",
    "\n",
    "# Calculate accuracy\n",
    "accuracy = accuracy_score(y_test, y_pred)\n",
    "print(f\"Accuracy: {accuracy}\")"
   ]
  },
  {
   "cell_type": "code",
   "execution_count": 16,
   "id": "e0e89e88",
   "metadata": {},
   "outputs": [
    {
     "name": "stdout",
     "output_type": "stream",
     "text": [
      "done\n",
      "Accuracy: 0.788051706067311\n",
      "              precision    recall  f1-score   support\n",
      "\n",
      "           0       0.78      0.83      0.81      4565\n",
      "           1       0.80      0.74      0.76      4022\n",
      "\n",
      "    accuracy                           0.79      8587\n",
      "   macro avg       0.79      0.78      0.79      8587\n",
      "weighted avg       0.79      0.79      0.79      8587\n",
      "\n"
     ]
    }
   ],
   "source": [
    "from sklearn.metrics import accuracy_score, classification_report\n",
    "from sklearn.svm import SVC\n",
    "\n",
    "SVM_model4 = SVC(kernel='rbf', gamma='scale')\n",
    "SVM_model4.fit(x_train, y_train)\n",
    "print('done')\n",
    "\n",
    "y_pred = SVM_model4.predict(x_test)\n",
    "accuracy = accuracy_score(y_test, y_pred)\n",
    "print(\"Accuracy:\", accuracy)\n",
    "print(classification_report(y_test, y_pred))\n"
   ]
  },
  {
   "cell_type": "code",
   "execution_count": 23,
   "id": "c76922bb",
   "metadata": {},
   "outputs": [
    {
     "name": "stdout",
     "output_type": "stream",
     "text": [
      "Fitting 5 folds for each of 36 candidates, totalling 180 fits\n",
      "              precision    recall  f1-score   support\n",
      "\n",
      "           0       0.83      0.65      0.73      4565\n",
      "           1       0.68      0.85      0.76      4022\n",
      "\n",
      "    accuracy                           0.74      8587\n",
      "   macro avg       0.76      0.75      0.74      8587\n",
      "weighted avg       0.76      0.74      0.74      8587\n",
      "\n",
      "Best Hyperparameters: {'C': 100, 'max_iter': 100, 'solver': 'liblinear'}\n"
     ]
    }
   ],
   "source": [
    "from sklearn.model_selection import GridSearchCV\n",
    "from sklearn.linear_model import LogisticRegression\n",
    "from sklearn.metrics import classification_report\n",
    "\n",
    "# Define the logistic regression model with class weights\n",
    "model = LogisticRegression(class_weight={0: 1, 1: 2}, random_state=42)\n",
    "\n",
    "# Define the hyperparameters grid for tuning\n",
    "param_grid = {\n",
    "    'C': [0.001, 0.01, 0.1, 1, 10, 100],  # Inverse of regularization strength\n",
    "    'solver': ['liblinear', 'lbfgs'],  # Solvers for optimization\n",
    "    'max_iter': [100, 200, 300]  # Maximum number of iterations\n",
    "}\n",
    "\n",
    "# Perform grid search with 5-fold cross-validation\n",
    "grid_search = GridSearchCV(model, param_grid, cv=5, scoring='f1', verbose=1, n_jobs=-1)\n",
    "\n",
    "# Train the grid search on the training data\n",
    "grid_search.fit(x_train, y_train)\n",
    "\n",
    "# Get the best hyperparameters from the grid search\n",
    "best_params = grid_search.best_params_\n",
    "best_model = grid_search.best_estimator_\n",
    "\n",
    "# Use the best model to make predictions on the test data\n",
    "y_pred = best_model.predict(x_test)\n",
    "\n",
    "# Print classification report to evaluate performance\n",
    "print(classification_report(y_test, y_pred))\n",
    "\n",
    "# Print the best hyperparameters\n",
    "print(\"Best Hyperparameters:\", best_params)\n"
   ]
  },
  {
   "cell_type": "code",
   "execution_count": 21,
   "id": "ba373110",
   "metadata": {},
   "outputs": [
    {
     "name": "stdout",
     "output_type": "stream",
     "text": [
      "Sum of predictions that are 1s: 4100\n",
      "Sum of predictions that are 0s: 2542\n"
     ]
    },
    {
     "name": "stderr",
     "output_type": "stream",
     "text": [
      "C:\\Users\\Daniel\\anaconda3\\Lib\\site-packages\\sklearn\\base.py:457: UserWarning: X has feature names, but StandardScaler was fitted without feature names\n",
      "  warnings.warn(\n"
     ]
    },
    {
     "data": {
      "text/html": [
       "<div>\n",
       "<style scoped>\n",
       "    .dataframe tbody tr th:only-of-type {\n",
       "        vertical-align: middle;\n",
       "    }\n",
       "\n",
       "    .dataframe tbody tr th {\n",
       "        vertical-align: top;\n",
       "    }\n",
       "\n",
       "    .dataframe thead th {\n",
       "        text-align: right;\n",
       "    }\n",
       "</style>\n",
       "<table border=\"1\" class=\"dataframe\">\n",
       "  <thead>\n",
       "    <tr style=\"text-align: right;\">\n",
       "      <th></th>\n",
       "      <th>Predictions</th>\n",
       "    </tr>\n",
       "  </thead>\n",
       "  <tbody>\n",
       "    <tr>\n",
       "      <th>0</th>\n",
       "      <td>0</td>\n",
       "    </tr>\n",
       "    <tr>\n",
       "      <th>1</th>\n",
       "      <td>1</td>\n",
       "    </tr>\n",
       "    <tr>\n",
       "      <th>2</th>\n",
       "      <td>1</td>\n",
       "    </tr>\n",
       "    <tr>\n",
       "      <th>3</th>\n",
       "      <td>1</td>\n",
       "    </tr>\n",
       "    <tr>\n",
       "      <th>4</th>\n",
       "      <td>1</td>\n",
       "    </tr>\n",
       "    <tr>\n",
       "      <th>...</th>\n",
       "      <td>...</td>\n",
       "    </tr>\n",
       "    <tr>\n",
       "      <th>6637</th>\n",
       "      <td>1</td>\n",
       "    </tr>\n",
       "    <tr>\n",
       "      <th>6638</th>\n",
       "      <td>1</td>\n",
       "    </tr>\n",
       "    <tr>\n",
       "      <th>6639</th>\n",
       "      <td>0</td>\n",
       "    </tr>\n",
       "    <tr>\n",
       "      <th>6640</th>\n",
       "      <td>1</td>\n",
       "    </tr>\n",
       "    <tr>\n",
       "      <th>6641</th>\n",
       "      <td>1</td>\n",
       "    </tr>\n",
       "  </tbody>\n",
       "</table>\n",
       "<p>6642 rows × 1 columns</p>\n",
       "</div>"
      ],
      "text/plain": [
       "      Predictions\n",
       "0               0\n",
       "1               1\n",
       "2               1\n",
       "3               1\n",
       "4               1\n",
       "...           ...\n",
       "6637            1\n",
       "6638            1\n",
       "6639            0\n",
       "6640            1\n",
       "6641            1\n",
       "\n",
       "[6642 rows x 1 columns]"
      ]
     },
     "execution_count": 21,
     "metadata": {},
     "output_type": "execute_result"
    }
   ],
   "source": [
    "y_hat = model.predict(newtest_scaled[selected_features])\n",
    "\n",
    "# Create a new DataFrame for predictions\n",
    "predictions_df = pd.DataFrame(data={'Predictions': y_hat}, index=newtest_scaled.index)\n",
    "\n",
    "\n",
    "# Calculate the sum of predictions that are 1s and 0s\n",
    "sum_of_ones = predictions_df['Predictions'].sum()\n",
    "sum_of_zeros = len(predictions_df) - sum_of_ones\n",
    "\n",
    "# Display the results\n",
    "print(f\"Sum of predictions that are 1s: {sum_of_ones}\")\n",
    "print(f\"Sum of predictions that are 0s: {sum_of_zeros}\")\n",
    "\n",
    "predictions_df"
   ]
  },
  {
   "cell_type": "code",
   "execution_count": 4,
   "id": "af15871e",
   "metadata": {},
   "outputs": [
    {
     "name": "stdout",
     "output_type": "stream",
     "text": [
      "Requirement already satisfied: imbalanced-learn in c:\\users\\daniel\\anaconda3\\lib\\site-packages (0.9.0)\n",
      "Collecting imbalanced-learn\n",
      "  Obtaining dependency information for imbalanced-learn from https://files.pythonhosted.org/packages/6e/1b/66764ecf370e797759be06fb38c11640ea1f9456ae10f8640a33cfa726ea/imbalanced_learn-0.12.2-py3-none-any.whl.metadata\n",
      "  Using cached imbalanced_learn-0.12.2-py3-none-any.whl.metadata (8.2 kB)\n",
      "Requirement already satisfied: numpy>=1.17.3 in c:\\users\\daniel\\anaconda3\\lib\\site-packages (from imbalanced-learn) (1.24.3)\n",
      "Requirement already satisfied: scipy>=1.5.0 in c:\\users\\daniel\\anaconda3\\lib\\site-packages (from imbalanced-learn) (1.11.1)\n",
      "Requirement already satisfied: scikit-learn>=1.0.2 in c:\\users\\daniel\\anaconda3\\lib\\site-packages (from imbalanced-learn) (1.4.2)\n",
      "Requirement already satisfied: joblib>=1.1.1 in c:\\users\\daniel\\anaconda3\\lib\\site-packages (from imbalanced-learn) (1.2.0)\n",
      "Requirement already satisfied: threadpoolctl>=2.0.0 in c:\\users\\daniel\\anaconda3\\lib\\site-packages (from imbalanced-learn) (2.2.0)\n",
      "Using cached imbalanced_learn-0.12.2-py3-none-any.whl (257 kB)\n",
      "Installing collected packages: imbalanced-learn\n",
      "  Attempting uninstall: imbalanced-learn\n",
      "    Found existing installation: imbalanced-learn 0.9.0\n",
      "    Uninstalling imbalanced-learn-0.9.0:\n",
      "      Successfully uninstalled imbalanced-learn-0.9.0\n",
      "Successfully installed imbalanced-learn-0.12.2\n",
      "Note: you may need to restart the kernel to use updated packages.\n"
     ]
    }
   ],
   "source": []
  }
 ],
 "metadata": {
  "kernelspec": {
   "display_name": "Python 3 (ipykernel)",
   "language": "python",
   "name": "python3"
  },
  "language_info": {
   "codemirror_mode": {
    "name": "ipython",
    "version": 3
   },
   "file_extension": ".py",
   "mimetype": "text/x-python",
   "name": "python",
   "nbconvert_exporter": "python",
   "pygments_lexer": "ipython3",
   "version": "3.11.5"
  }
 },
 "nbformat": 4,
 "nbformat_minor": 5
}
